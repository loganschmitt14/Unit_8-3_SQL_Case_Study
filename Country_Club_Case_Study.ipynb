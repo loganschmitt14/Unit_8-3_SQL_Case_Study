{
 "cells": [
  {
   "cell_type": "code",
   "execution_count": 3,
   "id": "60b9e37e-dfc8-45c7-a5f0-c4c3845c93d4",
   "metadata": {},
   "outputs": [],
   "source": [
    "import sqlite3\n",
    "import pandas as pd"
   ]
  },
  {
   "cell_type": "code",
   "execution_count": 4,
   "id": "163642e3-a883-4dd3-9fc2-b2f0cc7a60a0",
   "metadata": {},
   "outputs": [],
   "source": [
    "con = sqlite3.connect('sqlite_db_pythonsqlite.db')"
   ]
  },
  {
   "cell_type": "code",
   "execution_count": 5,
   "id": "2d6c08df-d849-42e4-8ce8-f7f8d4e5274a",
   "metadata": {},
   "outputs": [],
   "source": [
    "cur = con.cursor()"
   ]
  },
  {
   "cell_type": "code",
   "execution_count": 6,
   "id": "c558c877-618b-419d-aa32-37ec2261d965",
   "metadata": {},
   "outputs": [],
   "source": [
    "check_query = 'SELECT * FROM Facilities'"
   ]
  },
  {
   "cell_type": "code",
   "execution_count": 7,
   "id": "b287f375-3884-472a-9724-8b9c5f75a6f8",
   "metadata": {},
   "outputs": [],
   "source": [
    "check_result = cur.execute(check_query).fetchall()"
   ]
  },
  {
   "cell_type": "code",
   "execution_count": 8,
   "id": "9ae41f55-d9db-418c-ac12-a16276482e15",
   "metadata": {},
   "outputs": [
    {
     "name": "stdout",
     "output_type": "stream",
     "text": [
      "[(0, 'Tennis Court 1', 5, 25, 10000, 200), (1, 'Tennis Court 2', 5, 25, 8000, 200), (2, 'Badminton Court', 0, 15.5, 4000, 50), (3, 'Table Tennis', 0, 5, 320, 10), (4, 'Massage Room 1', 9.9, 80, 4000, 3000), (5, 'Massage Room 2', 9.9, 80, 4000, 3000), (6, 'Squash Court', 3.5, 17.5, 5000, 80), (7, 'Snooker Table', 0, 5, 450, 15), (8, 'Pool Table', 0, 5, 400, 15)]\n"
     ]
    }
   ],
   "source": [
    "print(check_result)"
   ]
  },
  {
   "cell_type": "markdown",
   "id": "1184c3df-b7e9-4cc0-ba8d-66a65c5b6851",
   "metadata": {
    "tags": []
   },
   "source": [
    "#### Q10: Produce a list of facilities with a total revenue less than 1000.\n",
    "##### The output of facility name and total revenue, sorted by revenue. Remember that there's a different cost for guests and members!"
   ]
  },
  {
   "cell_type": "code",
   "execution_count": 9,
   "id": "42a74c50-1330-44df-b629-5654d03250dd",
   "metadata": {},
   "outputs": [],
   "source": [
    "Q10_query = '''\n",
    "SELECT \n",
    "    Facilities.name AS facility_name,\n",
    "    SUM( CASE \n",
    "            WHEN Bookings.memid = 0\n",
    "                THEN Bookings.slots * Facilities.guestcost \n",
    "            ELSE Bookings.slots * membercost \n",
    "        END) AS total_revenue \n",
    "FROM Bookings \n",
    "JOIN Facilities ON Facilities.facid = Bookings.facid\n",
    "GROUP BY Facilities.name\n",
    "HAVING total_revenue < 1000\n",
    "ORDER BY total_revenue DESC;\n",
    "'''"
   ]
  },
  {
   "cell_type": "code",
   "execution_count": 10,
   "id": "2b952831-9153-4a51-a3df-dfdddf2c4e1a",
   "metadata": {},
   "outputs": [],
   "source": [
    "Q10_result = cur.execute(Q10_query).fetchall()"
   ]
  },
  {
   "cell_type": "code",
   "execution_count": 11,
   "id": "739782b2-1a1a-497b-bb5e-11dbee2502d5",
   "metadata": {},
   "outputs": [
    {
     "name": "stdout",
     "output_type": "stream",
     "text": [
      "[('Pool Table', 270), ('Snooker Table', 240), ('Table Tennis', 180)]\n"
     ]
    }
   ],
   "source": [
    "print(Q10_result)"
   ]
  },
  {
   "cell_type": "markdown",
   "id": "6a6581fc-d520-4473-95dc-a235ad59be91",
   "metadata": {},
   "source": [
    "#### Q11: Produce a report of members and who recommended them in alphabetic surname,firstname order"
   ]
  },
  {
   "cell_type": "code",
   "execution_count": 13,
   "id": "31c8ab0f-ef3c-4031-a421-8b47ec0c8714",
   "metadata": {},
   "outputs": [],
   "source": [
    "Q11_query = '''\n",
    "SELECT \n",
    "    (M1.surname || ', '|| M1.firstname) AS Member,\n",
    "    COALESCE((M2.surname || ', '|| M2.firstname), 'None') AS Recommender\n",
    "FROM Members AS M1\n",
    "    LEFT JOIN Members AS M2\n",
    "        ON M1.recommendedby = M2.memid\n",
    "WHERE M1.firstname NOT LIKE 'GUEST'\n",
    "ORDER BY Member ASC;\n",
    "'''"
   ]
  },
  {
   "cell_type": "code",
   "execution_count": 14,
   "id": "0eb30875-69ba-4e22-bbce-7ec9d01cd97a",
   "metadata": {},
   "outputs": [],
   "source": [
    "Q11_result = cur.execute(Q11_query).fetchall()"
   ]
  },
  {
   "cell_type": "code",
   "execution_count": 15,
   "id": "d50130dd-40d8-4af7-91e7-fe7707efcb9f",
   "metadata": {},
   "outputs": [],
   "source": [
    "Q11_col_names = ['Member', 'Recommender']\n",
    "Q11_frame = pd.DataFrame(Q11_result, columns = Q11_col_names)"
   ]
  },
  {
   "cell_type": "code",
   "execution_count": 16,
   "id": "718d89c3-51d4-49ee-8b58-d61c19214426",
   "metadata": {},
   "outputs": [
    {
     "name": "stdout",
     "output_type": "stream",
     "text": [
      "                      Member         Recommender\n",
      "0            Bader, Florence    Stibbons, Ponder\n",
      "1                Baker, Anne    Stibbons, Ponder\n",
      "2             Baker, Timothy     Farrell, Jemima\n",
      "3                Boothe, Tim         Rownam, Tim\n",
      "4            Butters, Gerald       Smith, Darren\n",
      "5               Coplin, Joan      Baker, Timothy\n",
      "6             Crumpet, Erica        Smith, Tracy\n",
      "7                Dare, Nancy    Joplette, Janice\n",
      "8             Farrell, David                None\n",
      "9            Farrell, Jemima                None\n",
      "10          Genting, Matthew     Butters, Gerald\n",
      "11                Hunt, John  Purview, Millicent\n",
      "12              Jones, David    Joplette, Janice\n",
      "13            Jones, Douglas        Jones, David\n",
      "14          Joplette, Janice       Smith, Darren\n",
      "15           Mackenzie, Anna       Smith, Darren\n",
      "16             Owen, Charles       Smith, Darren\n",
      "17             Pinker, David     Farrell, Jemima\n",
      "18        Purview, Millicent        Smith, Tracy\n",
      "19               Rownam, Tim                None\n",
      "20         Rumney, Henrietta    Genting, Matthew\n",
      "21         Sarwin, Ramnaresh     Bader, Florence\n",
      "22             Smith, Darren                None\n",
      "23             Smith, Darren                None\n",
      "24               Smith, Jack       Smith, Darren\n",
      "25              Smith, Tracy                None\n",
      "26          Stibbons, Ponder       Tracy, Burton\n",
      "27             Tracy, Burton                None\n",
      "28      Tupperware, Hyacinth                None\n",
      "29  Worthington-Smyth, Henry        Smith, Tracy\n"
     ]
    }
   ],
   "source": [
    "print(Q11_frame)"
   ]
  },
  {
   "cell_type": "markdown",
   "id": "574fb787-a920-40e1-b8b6-0d34beeee031",
   "metadata": {},
   "source": [
    "#### Q12: Find the facilities with their usage by member, but not guests"
   ]
  },
  {
   "cell_type": "code",
   "execution_count": 17,
   "id": "cbbaa50c-a7ef-4341-b699-fa8bd4c35bb7",
   "metadata": {},
   "outputs": [],
   "source": [
    "Q12_query = '''\n",
    "SELECT \n",
    "    Facilities.name AS facility_name,\n",
    "    (Members.surname || ', ' || Members.firstname) AS member_name, \n",
    "    SUM(Bookings.slots) AS slots_booked\n",
    "FROM Bookings\n",
    "    JOIN Facilities\n",
    "        ON Facilities.facid = Bookings.facid\n",
    "    JOIN Members\n",
    "        ON Members.memid = Bookings.memid\n",
    "WHERE Bookings.memid > 0\n",
    "GROUP BY facility_name, member_name\n",
    "ORDER BY Facilities.name, Members.surname ASC;\n",
    "'''"
   ]
  },
  {
   "cell_type": "code",
   "execution_count": 60,
   "id": "67f55337-1806-4eea-b1d2-822f5c0d1119",
   "metadata": {},
   "outputs": [],
   "source": [
    "Q12_result = cur.execute(Q12_query).fetchall()"
   ]
  },
  {
   "cell_type": "code",
   "execution_count": 61,
   "id": "057322b7-dc0d-41a2-9767-c0c6a4724de9",
   "metadata": {},
   "outputs": [],
   "source": [
    "Q12_col_names = ['Facility_Name', 'Member_Name', 'Slots_Booked']\n",
    "Q12_frame = pd.DataFrame(Q12_result, columns = Q12_col_names)"
   ]
  },
  {
   "cell_type": "code",
   "execution_count": 62,
   "id": "c09e36d6-6370-43eb-ab6f-5a64c7c2c786",
   "metadata": {},
   "outputs": [
    {
     "name": "stdout",
     "output_type": "stream",
     "text": [
      "       Facility_Name       Member_Name  Slots_Booked\n",
      "0    Badminton Court   Bader, Florence            27\n",
      "1    Badminton Court       Baker, Anne            30\n",
      "2    Badminton Court    Baker, Timothy            21\n",
      "3    Badminton Court       Boothe, Tim            36\n",
      "4    Badminton Court   Butters, Gerald            63\n",
      "..               ...               ...           ...\n",
      "197   Tennis Court 2     Smith, Darren            57\n",
      "198   Tennis Court 2       Smith, Jack             3\n",
      "199   Tennis Court 2      Smith, Tracy             6\n",
      "200   Tennis Court 2  Stibbons, Ponder            96\n",
      "201   Tennis Court 2     Tracy, Burton             9\n",
      "\n",
      "[202 rows x 3 columns]\n"
     ]
    }
   ],
   "source": [
    "print(Q12_frame)"
   ]
  },
  {
   "cell_type": "markdown",
   "id": "9151d8e9-7808-4c09-b375-429f77f6f486",
   "metadata": {},
   "source": [
    "#### Q13: Find the facilities usage by month, but not guests"
   ]
  },
  {
   "cell_type": "code",
   "execution_count": 77,
   "id": "2194087c-0897-4794-b814-3ee32ac662dd",
   "metadata": {},
   "outputs": [],
   "source": [
    "Q13_query = '''\n",
    "SELECT \n",
    "    CASE \n",
    "        WHEN Bookings.starttime LIKE '____-07-%' THEN 'July'\n",
    "        WHEN Bookings.starttime LIKE '____-08-%' THEN 'August'\n",
    "        WHEN Bookings.starttime LIKE '____-09-%' THEN 'September'\n",
    "        ELSE 'Other' \n",
    "    END AS month, \n",
    "Facilities.name AS facility_name,\n",
    "SUM(Bookings.slots) AS slots_booked\n",
    "FROM Bookings\n",
    "JOIN Facilities ON Facilities.facid = Bookings.facid\n",
    "WHERE Bookings.memid > 0\n",
    "GROUP BY facility_name, month\n",
    "ORDER BY Bookings.starttime ASC;\n",
    "'''"
   ]
  },
  {
   "cell_type": "code",
   "execution_count": 78,
   "id": "298febb4-4048-4050-b425-ebefaadec565",
   "metadata": {},
   "outputs": [],
   "source": [
    "Q13_result = cur.execute(Q13_query).fetchall()"
   ]
  },
  {
   "cell_type": "code",
   "execution_count": 79,
   "id": "4ff1ec64-9ca3-4de3-ad1c-5e3be598d1b6",
   "metadata": {},
   "outputs": [],
   "source": [
    "Q13_col_names = ['Month', 'Facility_Name', 'Slots_Booked']\n",
    "Q13_frame = pd.DataFrame(Q13_result, columns = Q13_col_names)"
   ]
  },
  {
   "cell_type": "code",
   "execution_count": 80,
   "id": "f0c5f951-abe0-42fc-bc28-2803fb485b70",
   "metadata": {},
   "outputs": [
    {
     "name": "stdout",
     "output_type": "stream",
     "text": [
      "        Month    Facility_Name  Slots_Booked\n",
      "0        July   Massage Room 1           166\n",
      "1        July       Pool Table           110\n",
      "2        July     Table Tennis            98\n",
      "3        July    Snooker Table           140\n",
      "4        July   Tennis Court 1           201\n",
      "5        July     Squash Court            50\n",
      "6        July  Badminton Court           165\n",
      "7        July   Tennis Court 2           123\n",
      "8        July   Massage Room 2             8\n",
      "9      August   Massage Room 1           316\n",
      "10     August   Massage Room 2            18\n",
      "11     August       Pool Table           303\n",
      "12     August   Tennis Court 2           345\n",
      "13     August  Badminton Court           414\n",
      "14     August    Snooker Table           316\n",
      "15     August     Table Tennis           296\n",
      "16     August     Squash Court           184\n",
      "17     August   Tennis Court 1           339\n",
      "18  September   Massage Room 1           402\n",
      "19  September    Snooker Table           404\n",
      "20  September     Table Tennis           400\n",
      "21  September  Badminton Court           507\n",
      "22  September   Tennis Court 2           414\n",
      "23  September       Pool Table           443\n",
      "24  September   Tennis Court 1           417\n",
      "25  September     Squash Court           184\n",
      "26  September   Massage Room 2            28\n"
     ]
    }
   ],
   "source": [
    "print(Q13_frame)"
   ]
  }
 ],
 "metadata": {
  "kernelspec": {
   "display_name": "Python 3 (ipykernel)",
   "language": "python",
   "name": "python3"
  },
  "language_info": {
   "codemirror_mode": {
    "name": "ipython",
    "version": 3
   },
   "file_extension": ".py",
   "mimetype": "text/x-python",
   "name": "python",
   "nbconvert_exporter": "python",
   "pygments_lexer": "ipython3",
   "version": "3.9.13"
  }
 },
 "nbformat": 4,
 "nbformat_minor": 5
}
